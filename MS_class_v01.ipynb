{
 "cells": [
  {
   "cell_type": "code",
   "execution_count": 14,
   "metadata": {},
   "outputs": [
    {
     "name": "stdout",
     "output_type": "stream",
     "text": [
      "Data already exists at downloads/MS_data.tar.gz\n"
     ]
    },
    {
     "name": "stderr",
     "output_type": "stream",
     "text": [
      "/var/folders/_j/pxtg33rs3657dcdtz9vydvkc0000gn/T/ipykernel_39464/4134807229.py:34: DeprecationWarning: Python 3.14 will, by default, filter extracted tar archives and reject files or modify their metadata. Use the filter argument to control this behavior.\n",
      "  tar_ref.extractall(self.extract_path)\n"
     ]
    },
    {
     "name": "stdout",
     "output_type": "stream",
     "text": [
      "Extracted data to downloads/MS_extracted/\n"
     ]
    }
   ],
   "source": [
    "import os\n",
    "import requests\n",
    "import tarfile\n",
    "import pandas as pd\n",
    "from pydantic import BaseModel\n",
    "from typing import Optional\n",
    "\n",
    "class DataDownloader(BaseModel):\n",
    "    dataframes: dict = {}\n",
    "    url: str\n",
    "    download_path: str = 'downloads/MS_data.tar.gz'\n",
    "    extract_path: str = 'downloads/MS_extracted/'\n",
    "\n",
    "    def __init__(self, url: str, **data):\n",
    "        super().__init__(url=url, **data)\n",
    "        self.dataframes = {}\n",
    "        self.download_data()\n",
    "        self.unzip_data()\n",
    "        self.load_dataframes()\n",
    "        self.set_dataframe_attributes()\n",
    "\n",
    "    def download_data(self):\n",
    "        if not os.path.exists(self.download_path):\n",
    "            os.makedirs(os.path.dirname(self.download_path), exist_ok=True)\n",
    "            response = requests.get(self.url)\n",
    "            with open(self.download_path, 'wb') as file:\n",
    "                file.write(response.content)\n",
    "            print(f\"Downloaded data to {self.download_path}\")\n",
    "        else:\n",
    "            print(f\"Data already exists at {self.download_path}\")\n",
    "\n",
    "    def unzip_data(self):\n",
    "        with tarfile.open(self.download_path, 'r:gz') as tar_ref:\n",
    "            tar_ref.extractall(self.extract_path)\n",
    "        print(f\"Extracted data to {self.extract_path}\")\n",
    "\n",
    "    def load_dataframes(self):\n",
    "        # Assuming the zip file contains CSV files\n",
    "        self.dataframes = {}\n",
    "        for file_name in os.listdir(self.extract_path):\n",
    "            if file_name.endswith('.csv'):\n",
    "                df_name = file_name.split('.')[0]\n",
    "                self.dataframes[df_name] = pd.read_csv(os.path.join(self.extract_path, file_name))\n",
    "                print(f\"Loaded {file_name} into dataframe {df_name}\")\n",
    "\n",
    "    def set_dataframe_attributes(self):\n",
    "        for df_name, df in self.dataframes.items():\n",
    "            setattr(self, df_name, df)\n",
    "            print(f\"Set attribute {df_name} for dataframe\")\n",
    "\n",
    "# Example usage:\n",
    "downloader = DataDownloader(url='http://www.cs.cmu.edu/~ark/personas/data/MovieSummaries.tar.gz')"
   ]
  }
 ],
 "metadata": {
  "language_info": {
   "name": "python"
  }
 },
 "nbformat": 4,
 "nbformat_minor": 2
}
