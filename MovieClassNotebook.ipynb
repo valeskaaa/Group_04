{
 "cells": [
  {
   "cell_type": "code",
   "execution_count": null,
   "metadata": {},
   "outputs": [
    {
     "name": "stdout",
     "output_type": "stream",
     "text": [
      "Dataset loaded successfully.\n",
      "          0           1                                                  2  \\\n",
      "0    975900   /m/03vyhn                                     Ghosts of Mars   \n",
      "1   3196793   /m/08yl5d  Getting Away with Murder: The JonBenét Ramsey ...   \n",
      "2  28463795  /m/0crgdbh                                        Brun bitter   \n",
      "3   9363483  /m/0285_cd                                   White Of The Eye   \n",
      "4    261236   /m/01mrr1                                  A Woman in Flames   \n",
      "\n",
      "            3           4      5                                   6  \\\n",
      "0  2001-08-24  14010832.0   98.0  {\"/m/02h40lc\": \"English Language\"}   \n",
      "1  2000-02-16         NaN   95.0  {\"/m/02h40lc\": \"English Language\"}   \n",
      "2        1988         NaN   83.0  {\"/m/05f_3\": \"Norwegian Language\"}   \n",
      "3        1987         NaN  110.0  {\"/m/02h40lc\": \"English Language\"}   \n",
      "4        1983         NaN  106.0   {\"/m/04306rv\": \"German Language\"}   \n",
      "\n",
      "                                           7  \\\n",
      "0  {\"/m/09c7w0\": \"United States of America\"}   \n",
      "1  {\"/m/09c7w0\": \"United States of America\"}   \n",
      "2                     {\"/m/05b4w\": \"Norway\"}   \n",
      "3             {\"/m/07ssc\": \"United Kingdom\"}   \n",
      "4                    {\"/m/0345h\": \"Germany\"}   \n",
      "\n",
      "                                                   8  \n",
      "0  {\"/m/01jfsb\": \"Thriller\", \"/m/06n90\": \"Science...  \n",
      "1  {\"/m/02n4kr\": \"Mystery\", \"/m/03bxz7\": \"Biograp...  \n",
      "2  {\"/m/0lsxr\": \"Crime Fiction\", \"/m/07s9rl0\": \"D...  \n",
      "3  {\"/m/01jfsb\": \"Thriller\", \"/m/0glj9q\": \"Erotic...  \n",
      "4                            {\"/m/07s9rl0\": \"Drama\"}  \n"
     ]
    }
   ],
   "source": [
    "import os\n",
    "import tarfile\n",
    "import requests\n",
    "import pandas as pd\n",
    "from pathlib import Path\n",
    "from typing import Optional\n",
    "from pydantic import BaseModel, ConfigDict\n",
    "\n",
    "\n",
    "class MovieDataset(BaseModel):\n",
    "    \"\"\"Class to handle downloading, extracting, and loading the CMU Movie Dataset.\"\"\"\n",
    "\n",
    "    base_url: str = \"http://www.cs.cmu.edu/~ark/personas/data/\"\n",
    "    dataset_filename: str = \"MovieSummaries.tar.gz\"\n",
    "    download_dir: Path = Path(\"downloads\")\n",
    "    extracted_dir: Path = download_dir / \"MovieSummaries\"\n",
    "    dataset_path: Path = download_dir / dataset_filename\n",
    "    movie_metadata_path: Path = extracted_dir / \"movie.metadata.tsv\"\n",
    "\n",
    "    movie_metadata: Optional[pd.DataFrame] = None\n",
    "\n",
    "    model_config = ConfigDict(arbitrary_types_allowed=True)  # Allow DataFrame\n",
    "\n",
    "    def __init__(self):\n",
    "        \"\"\"Initialize the class: Download, extract, and load the dataset.\"\"\"\n",
    "        super().__init__()\n",
    "        self.download_dir.mkdir(exist_ok=True)\n",
    "\n",
    "        # Download dataset if not already present\n",
    "        if not self.dataset_path.exists():\n",
    "            self.download_dataset()\n",
    "\n",
    "        # Extract dataset if not already extracted\n",
    "        if not self.extracted_dir.exists():\n",
    "            self.extract_dataset()\n",
    "\n",
    "        # Load dataset into Pandas DataFrame\n",
    "        self.load_dataset()\n",
    "\n",
    "    def download_dataset(self):\n",
    "        \"\"\"Download the dataset if it does not already exist.\"\"\"\n",
    "        print(f\"Downloading {self.dataset_filename}...\")\n",
    "\n",
    "        response = requests.get(self.base_url + self.dataset_filename, stream=True)\n",
    "        response.raise_for_status()\n",
    "\n",
    "        with open(self.dataset_path, \"wb\") as file:\n",
    "            for chunk in response.iter_content(chunk_size=8192):\n",
    "                file.write(chunk)\n",
    "\n",
    "        print(\"Download complete.\")\n",
    "\n",
    "    def extract_dataset(self):\n",
    "        \"\"\"Extract the dataset from the tar.gz file.\"\"\"\n",
    "        print(\"Extracting dataset...\")\n",
    "\n",
    "        with tarfile.open(self.dataset_path, \"r:gz\") as tar:\n",
    "            tar.extractall(path=self.download_dir)\n",
    "\n",
    "        print(\"Extraction complete.\")\n",
    "\n",
    "    def load_dataset(self):\n",
    "        \"\"\"Load the movie metadata into a Pandas DataFrame.\"\"\"\n",
    "        if self.movie_metadata_path.exists():\n",
    "            self.movie_metadata = pd.read_csv(\n",
    "                self.movie_metadata_path, sep=\"\\t\", header=None\n",
    "            )\n",
    "            print(\"Dataset loaded successfully.\")\n",
    "        else:\n",
    "            raise FileNotFoundError(f\"{self.movie_metadata_path} not found!\")\n",
    "\n",
    "\n",
    "if __name__ == \"__main__\":\n",
    "    movie_data = MovieDataset()\n",
    "    print(movie_data.movie_metadata.head())\n",
    "\n",
    "\n",
    "\n",
    "\n",
    "\n",
    "\n"
   ]
  },
  {
   "cell_type": "code",
   "execution_count": null,
   "metadata": {},
   "outputs": [
    {
     "name": "stdout",
     "output_type": "stream",
     "text": [
      "Dataset loaded successfully.\n"
     ]
    },
    {
     "ename": "AttributeError",
     "evalue": "'MovieDataset' object has no attribute 'head'",
     "output_type": "error",
     "traceback": [
      "\u001b[1;31m---------------------------------------------------------------------------\u001b[0m",
      "\u001b[1;31mAttributeError\u001b[0m                            Traceback (most recent call last)",
      "Cell \u001b[1;32mIn[14], line 1\u001b[0m\n\u001b[1;32m----> 1\u001b[0m MovieDataset()\u001b[38;5;241m.\u001b[39mhead()\n",
      "File \u001b[1;32mc:\\ProgramData\\anaconda3\\Lib\\site-packages\\pydantic\\main.py:761\u001b[0m, in \u001b[0;36mBaseModel.__getattr__\u001b[1;34m(self, item)\u001b[0m\n\u001b[0;32m    758\u001b[0m     \u001b[38;5;28;01mreturn\u001b[39;00m \u001b[38;5;28msuper\u001b[39m()\u001b[38;5;241m.\u001b[39m\u001b[38;5;21m__getattribute__\u001b[39m(item)  \u001b[38;5;66;03m# Raises AttributeError if appropriate\u001b[39;00m\n\u001b[0;32m    759\u001b[0m \u001b[38;5;28;01melse\u001b[39;00m:\n\u001b[0;32m    760\u001b[0m     \u001b[38;5;66;03m# this is the current error\u001b[39;00m\n\u001b[1;32m--> 761\u001b[0m     \u001b[38;5;28;01mraise\u001b[39;00m \u001b[38;5;167;01mAttributeError\u001b[39;00m(\u001b[38;5;124mf\u001b[39m\u001b[38;5;124m'\u001b[39m\u001b[38;5;132;01m{\u001b[39;00m\u001b[38;5;28mtype\u001b[39m(\u001b[38;5;28mself\u001b[39m)\u001b[38;5;241m.\u001b[39m\u001b[38;5;18m__name__\u001b[39m\u001b[38;5;132;01m!r}\u001b[39;00m\u001b[38;5;124m object has no attribute \u001b[39m\u001b[38;5;132;01m{\u001b[39;00mitem\u001b[38;5;132;01m!r}\u001b[39;00m\u001b[38;5;124m'\u001b[39m)\n",
      "\u001b[1;31mAttributeError\u001b[0m: 'MovieDataset' object has no attribute 'head'"
     ]
    }
   ],
   "source": [
    "\n",
    "MovieDataset().head()\n"
   ]
  }
 ],
 "metadata": {
  "kernelspec": {
   "display_name": "base",
   "language": "python",
   "name": "python3"
  },
  "language_info": {
   "codemirror_mode": {
    "name": "ipython",
    "version": 3
   },
   "file_extension": ".py",
   "mimetype": "text/x-python",
   "name": "python",
   "nbconvert_exporter": "python",
   "pygments_lexer": "ipython3",
   "version": "3.12.4"
  }
 },
 "nbformat": 4,
 "nbformat_minor": 2
}
